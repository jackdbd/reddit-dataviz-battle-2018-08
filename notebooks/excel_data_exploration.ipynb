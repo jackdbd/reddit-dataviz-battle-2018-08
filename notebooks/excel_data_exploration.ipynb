{
 "cells": [
  {
   "cell_type": "code",
   "execution_count": 1,
   "metadata": {},
   "outputs": [],
   "source": [
    "import os\n",
    "import time\n",
    "import datetime\n",
    "import numpy as np\n",
    "import pandas as pd"
   ]
  },
  {
   "cell_type": "code",
   "execution_count": 2,
   "metadata": {},
   "outputs": [
    {
     "name": "stdout",
     "output_type": "stream",
     "text": [
      "/home/giacomo/repos/reddit-dataviz-battle-2018-08\n",
      "/home/giacomo/repos/reddit-dataviz-battle-2018-08/src\n"
     ]
    }
   ],
   "source": [
    "import sys\n",
    "project_path = os.path.abspath(os.path.join('..'))\n",
    "if project_path not in sys.path:\n",
    "    print(project_path)\n",
    "    sys.path.append(project_path)\n",
    "lib_path = os.path.abspath(os.path.join('..', 'src'))\n",
    "if lib_path not in sys.path:\n",
    "    print(lib_path)\n",
    "    sys.path.append(lib_path)"
   ]
  },
  {
   "cell_type": "code",
   "execution_count": 3,
   "metadata": {},
   "outputs": [],
   "source": [
    "import src\n",
    "from src.excel_to_df import make_df_from_excel, EXCEL_FILES"
   ]
  },
  {
   "cell_type": "code",
   "execution_count": 4,
   "metadata": {},
   "outputs": [
    {
     "data": {
      "text/plain": [
       "['claims-data-2015-as-of-feb-9-2016.xlsx']"
      ]
     },
     "execution_count": 4,
     "metadata": {},
     "output_type": "execute_result"
    }
   ],
   "source": [
    "EXCEL_FILES"
   ]
  },
  {
   "cell_type": "code",
   "execution_count": 5,
   "metadata": {},
   "outputs": [
    {
     "name": "stderr",
     "output_type": "stream",
     "text": [
      "/home/giacomo/.virtualenvs/reddit-dataviz-battle-2018-08--PKZPjQZ/lib/python3.6/site-packages/pandas/io/excel.py:329: FutureWarning: The `sheetname` keyword is deprecated, use `sheet_name` instead\n",
      "  **kwds)\n"
     ]
    },
    {
     "data": {
      "text/plain": [
       "1"
      ]
     },
     "execution_count": 5,
     "metadata": {},
     "output_type": "execute_result"
    }
   ],
   "source": [
    "dataframes = [make_df_from_excel(file_name, nrows=5000) for file_name in EXCEL_FILES]\n",
    "len(dataframes)"
   ]
  },
  {
   "cell_type": "code",
   "execution_count": 6,
   "metadata": {},
   "outputs": [
    {
     "data": {
      "text/html": [
       "<div>\n",
       "<style scoped>\n",
       "    .dataframe tbody tr th:only-of-type {\n",
       "        vertical-align: middle;\n",
       "    }\n",
       "\n",
       "    .dataframe tbody tr th {\n",
       "        vertical-align: top;\n",
       "    }\n",
       "\n",
       "    .dataframe thead th {\n",
       "        text-align: right;\n",
       "    }\n",
       "</style>\n",
       "<table border=\"1\" class=\"dataframe\">\n",
       "  <thead>\n",
       "    <tr style=\"text-align: right;\">\n",
       "      <th></th>\n",
       "      <th>claim_number</th>\n",
       "      <th>date_received</th>\n",
       "      <th>incident_date</th>\n",
       "      <th>airport_code</th>\n",
       "      <th>airport_name</th>\n",
       "      <th>airline_name</th>\n",
       "      <th>claim_type</th>\n",
       "      <th>claim_site</th>\n",
       "      <th>item</th>\n",
       "      <th>close_amount</th>\n",
       "      <th>disposition</th>\n",
       "    </tr>\n",
       "  </thead>\n",
       "  <tbody>\n",
       "    <tr>\n",
       "      <th>2866</th>\n",
       "      <td>2015072224111</td>\n",
       "      <td>2015-07-14</td>\n",
       "      <td>2015-06-04</td>\n",
       "      <td>HNL</td>\n",
       "      <td>Honolulu International Airport</td>\n",
       "      <td>Japan Airlines</td>\n",
       "      <td>Passenger Property Loss</td>\n",
       "      <td>Checked Baggage</td>\n",
       "      <td>Food &amp; Drink</td>\n",
       "      <td>0.00</td>\n",
       "      <td>Deny</td>\n",
       "    </tr>\n",
       "    <tr>\n",
       "      <th>4996</th>\n",
       "      <td>2015110926711</td>\n",
       "      <td>2015-10-22</td>\n",
       "      <td>2015-10-09</td>\n",
       "      <td>LIT</td>\n",
       "      <td>Little Rock National</td>\n",
       "      <td>USAir</td>\n",
       "      <td>Passenger Property Loss</td>\n",
       "      <td>Checked Baggage</td>\n",
       "      <td>NaN</td>\n",
       "      <td>NaN</td>\n",
       "      <td>NaN</td>\n",
       "    </tr>\n",
       "    <tr>\n",
       "      <th>2292</th>\n",
       "      <td>2015082725128</td>\n",
       "      <td>2015-08-21</td>\n",
       "      <td>2015-08-16</td>\n",
       "      <td>EWR</td>\n",
       "      <td>Newark International Airport</td>\n",
       "      <td>British Airways</td>\n",
       "      <td>Passenger Property Loss</td>\n",
       "      <td>Checked Baggage</td>\n",
       "      <td>Clothing</td>\n",
       "      <td>0.00</td>\n",
       "      <td>Deny</td>\n",
       "    </tr>\n",
       "    <tr>\n",
       "      <th>3399</th>\n",
       "      <td>2015031921388</td>\n",
       "      <td>2015-03-18</td>\n",
       "      <td>2015-03-01</td>\n",
       "      <td>TPA</td>\n",
       "      <td>Tampa International</td>\n",
       "      <td>Southwest Airlines</td>\n",
       "      <td>Property Damage</td>\n",
       "      <td>Checked Baggage</td>\n",
       "      <td>Home Decor</td>\n",
       "      <td>200.00</td>\n",
       "      <td>Approve in Full</td>\n",
       "    </tr>\n",
       "    <tr>\n",
       "      <th>119</th>\n",
       "      <td>2015011319818</td>\n",
       "      <td>2015-01-13</td>\n",
       "      <td>2015-01-04</td>\n",
       "      <td>ATL</td>\n",
       "      <td>Hartsfield-Jackson Atlanta International Airport</td>\n",
       "      <td>Delta Air Lines</td>\n",
       "      <td>Passenger Property Loss</td>\n",
       "      <td>Checked Baggage</td>\n",
       "      <td>Travel Accessories</td>\n",
       "      <td>10.95</td>\n",
       "      <td>Approve in Full</td>\n",
       "    </tr>\n",
       "    <tr>\n",
       "      <th>2569</th>\n",
       "      <td>2015113027160</td>\n",
       "      <td>2015-11-14</td>\n",
       "      <td>2015-11-09</td>\n",
       "      <td>SAN</td>\n",
       "      <td>San Diego International</td>\n",
       "      <td>American Airlines</td>\n",
       "      <td>Passenger Property Loss</td>\n",
       "      <td>Checked Baggage</td>\n",
       "      <td>Computer &amp; Accessories</td>\n",
       "      <td>0.00</td>\n",
       "      <td>Deny</td>\n",
       "    </tr>\n",
       "    <tr>\n",
       "      <th>2186</th>\n",
       "      <td>2015122227765</td>\n",
       "      <td>2015-12-22</td>\n",
       "      <td>2015-10-10</td>\n",
       "      <td>PNS</td>\n",
       "      <td>Pensacola International Airport</td>\n",
       "      <td>UAL</td>\n",
       "      <td>Passenger Property Loss</td>\n",
       "      <td>Checked Baggage</td>\n",
       "      <td>Other</td>\n",
       "      <td>10.00</td>\n",
       "      <td>Approve in Full</td>\n",
       "    </tr>\n",
       "    <tr>\n",
       "      <th>4554</th>\n",
       "      <td>2015080324428</td>\n",
       "      <td>2015-07-28</td>\n",
       "      <td>2015-03-23</td>\n",
       "      <td>LAX</td>\n",
       "      <td>Los Angeles International Airport</td>\n",
       "      <td>Delta Air Lines</td>\n",
       "      <td>Property Damage</td>\n",
       "      <td>Checkpoint</td>\n",
       "      <td>Personal Accessories</td>\n",
       "      <td>275.00</td>\n",
       "      <td>Settle</td>\n",
       "    </tr>\n",
       "    <tr>\n",
       "      <th>2584</th>\n",
       "      <td>2015012220095</td>\n",
       "      <td>2015-01-22</td>\n",
       "      <td>2015-01-01</td>\n",
       "      <td>SAT</td>\n",
       "      <td>San Antonio International</td>\n",
       "      <td>Southwest Airlines</td>\n",
       "      <td>Passenger Property Loss</td>\n",
       "      <td>Checked Baggage</td>\n",
       "      <td>Audio/Video</td>\n",
       "      <td>34.07</td>\n",
       "      <td>Settle</td>\n",
       "    </tr>\n",
       "    <tr>\n",
       "      <th>730</th>\n",
       "      <td>2015030521045</td>\n",
       "      <td>2015-03-05</td>\n",
       "      <td>2015-02-17</td>\n",
       "      <td>BOS</td>\n",
       "      <td>Boston (Logan) International Airport</td>\n",
       "      <td>American Airlines</td>\n",
       "      <td>Passenger Property Loss</td>\n",
       "      <td>Checked Baggage</td>\n",
       "      <td>Personal Electronics</td>\n",
       "      <td>NaN</td>\n",
       "      <td>NaN</td>\n",
       "    </tr>\n",
       "  </tbody>\n",
       "</table>\n",
       "</div>"
      ],
      "text/plain": [
       "       claim_number date_received incident_date airport_code  \\\n",
       "2866  2015072224111    2015-07-14    2015-06-04          HNL   \n",
       "4996  2015110926711    2015-10-22    2015-10-09          LIT   \n",
       "2292  2015082725128    2015-08-21    2015-08-16          EWR   \n",
       "3399  2015031921388    2015-03-18    2015-03-01          TPA   \n",
       "119   2015011319818    2015-01-13    2015-01-04          ATL   \n",
       "2569  2015113027160    2015-11-14    2015-11-09          SAN   \n",
       "2186  2015122227765    2015-12-22    2015-10-10          PNS   \n",
       "4554  2015080324428    2015-07-28    2015-03-23          LAX   \n",
       "2584  2015012220095    2015-01-22    2015-01-01          SAT   \n",
       "730   2015030521045    2015-03-05    2015-02-17          BOS   \n",
       "\n",
       "                                          airport_name          airline_name  \\\n",
       "2866                    Honolulu International Airport      Japan Airlines     \n",
       "4996                              Little Rock National               USAir     \n",
       "2292                      Newark International Airport     British Airways     \n",
       "3399                               Tampa International  Southwest Airlines     \n",
       "119   Hartsfield-Jackson Atlanta International Airport     Delta Air Lines     \n",
       "2569                           San Diego International   American Airlines     \n",
       "2186                   Pensacola International Airport                 UAL     \n",
       "4554                Los Angeles International Airport      Delta Air Lines     \n",
       "2584                         San Antonio International  Southwest Airlines     \n",
       "730              Boston (Logan) International Airport    American Airlines     \n",
       "\n",
       "                   claim_type       claim_site                    item  \\\n",
       "2866  Passenger Property Loss  Checked Baggage            Food & Drink   \n",
       "4996  Passenger Property Loss  Checked Baggage                     NaN   \n",
       "2292  Passenger Property Loss  Checked Baggage                Clothing   \n",
       "3399          Property Damage  Checked Baggage              Home Decor   \n",
       "119   Passenger Property Loss  Checked Baggage      Travel Accessories   \n",
       "2569  Passenger Property Loss  Checked Baggage  Computer & Accessories   \n",
       "2186  Passenger Property Loss  Checked Baggage                   Other   \n",
       "4554          Property Damage       Checkpoint    Personal Accessories   \n",
       "2584  Passenger Property Loss  Checked Baggage             Audio/Video   \n",
       "730   Passenger Property Loss  Checked Baggage    Personal Electronics   \n",
       "\n",
       "      close_amount      disposition  \n",
       "2866          0.00             Deny  \n",
       "4996           NaN              NaN  \n",
       "2292          0.00             Deny  \n",
       "3399        200.00  Approve in Full  \n",
       "119          10.95  Approve in Full  \n",
       "2569          0.00             Deny  \n",
       "2186         10.00  Approve in Full  \n",
       "4554        275.00           Settle  \n",
       "2584         34.07           Settle  \n",
       "730            NaN              NaN  "
      ]
     },
     "execution_count": 6,
     "metadata": {},
     "output_type": "execute_result"
    }
   ],
   "source": [
    "df = dataframes[0].sample(n=10)\n",
    "df"
   ]
  },
  {
   "cell_type": "code",
   "execution_count": null,
   "metadata": {},
   "outputs": [],
   "source": []
  }
 ],
 "metadata": {
  "kernelspec": {
   "display_name": "Python 3",
   "language": "python",
   "name": "python3"
  },
  "language_info": {
   "codemirror_mode": {
    "name": "ipython",
    "version": 3
   },
   "file_extension": ".py",
   "mimetype": "text/x-python",
   "name": "python",
   "nbconvert_exporter": "python",
   "pygments_lexer": "ipython3",
   "version": "3.6.5"
  }
 },
 "nbformat": 4,
 "nbformat_minor": 2
}
